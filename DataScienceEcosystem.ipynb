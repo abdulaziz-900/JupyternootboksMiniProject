{
 "cells": [
  {
   "cell_type": "markdown",
   "id": "2b01030b-6741-4a31-b6a5-a2eedde4be84",
   "metadata": {},
   "source": [
    "# Data Science Tools and Ecosystem"
   ]
  },
  {
   "cell_type": "markdown",
   "id": "c50d02c2-948f-45ec-a86e-b4957bef71d6",
   "metadata": {},
   "source": [
    "in this notebook , Data science Tools and Ecosystems are summerized"
   ]
  },
  {
   "cell_type": "markdown",
   "id": "f9ecb816-c20d-4917-aa16-b6a134698150",
   "metadata": {},
   "source": [
    "**Objectives:**"
   ]
  },
  {
   "cell_type": "markdown",
   "id": "3218cd5f-c245-4939-940c-f86824fc5f1a",
   "metadata": {},
   "source": [
    "- popular languages in Data Science.\n",
    "- most important libraries in Data Science.\n",
    "- most important tools that is needed by a data scientist."
   ]
  },
  {
   "cell_type": "markdown",
   "id": "bd56175f-284d-4807-8398-90ff88fe358a",
   "metadata": {},
   "source": [
    "Some of the popular languages that Data Scientists use are:\n",
    "1. Python\n",
    "2. R\n",
    "3. Julia"
   ]
  },
  {
   "cell_type": "markdown",
   "id": "c43786ae-d0eb-4236-bccb-af78c310c183",
   "metadata": {},
   "source": [
    "Some of the commonly used libraries used by Data Scientists include:\n",
    "1. Pandas\n",
    "2. Numpy\n",
    "3. sci-kit learn\n"
   ]
  },
  {
   "cell_type": "markdown",
   "id": "97db0d07-c820-4f28-9119-26499fa9d5d7",
   "metadata": {},
   "source": [
    "|Data Science Tools|\n",
    "--------------------\n",
    "| Vs Code |\n",
    "| Anaconda |\n",
    "| google Colab |"
   ]
  },
  {
   "cell_type": "markdown",
   "id": "aa2e92ee-3735-4ee6-aa8a-8e87ef6e0d56",
   "metadata": {},
   "source": [
    "### Below are a few examples of evaluating arithmetic expressions in Python"
   ]
  },
  {
   "cell_type": "markdown",
   "id": "9ce02710-95c9-4405-847a-afb0a74c46c0",
   "metadata": {
    "tags": []
   },
   "source": [
    "This is a simple example of multyplying an integer and then adding an integer:"
   ]
  },
  {
   "cell_type": "code",
   "execution_count": 4,
   "id": "e80f832f-1e27-4cee-8754-33c318b46bb5",
   "metadata": {
    "tags": []
   },
   "outputs": [
    {
     "data": {
      "text/plain": [
       "17"
      ]
     },
     "execution_count": 4,
     "metadata": {},
     "output_type": "execute_result"
    }
   ],
   "source": [
    "(3*4)+5"
   ]
  },
  {
   "cell_type": "markdown",
   "id": "be253291-5155-4e92-ba1e-d4221280d697",
   "metadata": {},
   "source": [
    "This will code will convert 200 minutes to hours by dividing 60:"
   ]
  },
  {
   "cell_type": "code",
   "execution_count": 5,
   "id": "91ed1b0a-df84-4864-ac14-98cb9f98f00c",
   "metadata": {
    "tags": []
   },
   "outputs": [
    {
     "data": {
      "text/plain": [
       "3.3333333333333335"
      ]
     },
     "execution_count": 5,
     "metadata": {},
     "output_type": "execute_result"
    }
   ],
   "source": [
    "200 /60"
   ]
  },
  {
   "cell_type": "markdown",
   "id": "a7aecae7-074a-4b47-8e59-224fafb0d31a",
   "metadata": {},
   "source": [
    "## Author"
   ]
  },
  {
   "cell_type": "markdown",
   "id": "505f54c7-322d-4908-b418-5d700d0214e0",
   "metadata": {
    "tags": []
   },
   "source": [
    "Abdulaziz Alabdullatif"
   ]
  }
 ],
 "metadata": {
  "kernelspec": {
   "display_name": "Python",
   "language": "python",
   "name": "conda-env-python-py"
  },
  "language_info": {
   "codemirror_mode": {
    "name": "ipython",
    "version": 3
   },
   "file_extension": ".py",
   "mimetype": "text/x-python",
   "name": "python",
   "nbconvert_exporter": "python",
   "pygments_lexer": "ipython3",
   "version": "3.7.12"
  }
 },
 "nbformat": 4,
 "nbformat_minor": 5
}
